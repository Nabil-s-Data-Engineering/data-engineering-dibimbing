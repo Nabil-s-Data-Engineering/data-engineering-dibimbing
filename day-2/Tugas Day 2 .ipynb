{
 "cells": [
  {
   "cell_type": "markdown",
   "metadata": {},
   "source": [
    "# Assignment Day 2 - Python\n",
    "Disusun untuk memenuhi **\"Assignment Day 2 - Python\"**\n",
    "\n",
    "--------------------------------------------------------------"
   ]
  },
  {
   "cell_type": "markdown",
   "metadata": {},
   "source": [
    "## Deskripsi Proyek\n",
    "Aplikasi Manajemen Perpustakaan adalah sebuah aplikasi sederhana yang memungkinkan pengguna untuk mengelola koleksi buku dalam sebuah perpustakaan. Aplikasi ini menyediakan berbagai fitur seperti penambahan, penghapusan, dan pencarian buku, serta penghitungan statistik tentang jumlah buku yang tersedia dan sedang dipinjam.\n",
    "\n",
    "### Fitur Utama\n",
    "- **Tambah Buku**: Pengguna dapat menambahkan buku baru ke dalam koleksi perpustakaan dengan memasukkan detail buku seperti judul, pengarang, tahun terbit, dan jumlah salinan.\n",
    "- **Hapus Buku**: Pengguna dapat menghapus buku dari koleksi perpustakaan berdasarkan judul buku.\n",
    "- **Cari Buku**: Pengguna dapat mencari buku dalam koleksi perpustakaan berdasarkan judul buku.\n",
    "- **Pinjam Buku**: Pengguna dapat meminjam salinan buku yang tersedia dalam koleksi perpustakaan.\n",
    "- **Kembalikan Buku**: Pengguna dapat mengembalikan buku yang telah dipinjam ke dalam koleksi perpustakaan.\n",
    "- **Statistik Buku**: Aplikasi akan menghitung statistik tentang jumlah total buku dalam koleksi, jumlah buku yang tersedia, dan jumlah buku yang sedang dipinjam."
   ]
  },
  {
   "cell_type": "markdown",
   "metadata": {},
   "source": []
  }
 ],
 "metadata": {
  "kernelspec": {
   "display_name": "tf-2-gpu",
   "language": "python",
   "name": "tf-2-gpu"
  },
  "language_info": {
   "codemirror_mode": {
    "name": "ipython",
    "version": 3
   },
   "file_extension": ".py",
   "mimetype": "text/x-python",
   "name": "python",
   "nbconvert_exporter": "python",
   "pygments_lexer": "ipython3",
   "version": "3.9.16"
  }
 },
 "nbformat": 4,
 "nbformat_minor": 4
}
